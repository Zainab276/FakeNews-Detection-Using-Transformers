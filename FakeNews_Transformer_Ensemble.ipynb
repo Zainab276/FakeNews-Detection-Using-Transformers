{
 "cells": [
  {
   "cell_type": "markdown",
   "id": "0012b01a",
   "metadata": {},
   "source": [
    "# Fake News Detection — Ensemble of Transformers (BERT + RoBERTa)\n",
    "\n",
    "This notebook builds a **fake news detector** using advanced AI techniques: fine-tuning pretrained **Transformer** models (DistilBERT / BERT and RoBERTa) and combining them in an ensemble. The dataset used is the **'Fake and Real News'** dataset from Kaggle.\n"
   ]
  },
  {
   "cell_type": "code",
   "execution_count": 34,
   "id": "f2427339",
   "metadata": {},
   "outputs": [
    {
     "name": "stdout",
     "output_type": "stream",
     "text": [
      "transformers 4.57.0\n",
      "datasets 4.1.1\n",
      "sklearn 1.7.2\n"
     ]
    }
   ],
   "source": [
    "\n",
    "# Verify versions\n",
    "import transformers, datasets, sklearn\n",
    "print('transformers', transformers.__version__)\n",
    "print('datasets', datasets.__version__)\n",
    "print('sklearn', sklearn.__version__)\n"
   ]
  },
  {
   "cell_type": "markdown",
   "id": "7ea7a0c7",
   "metadata": {},
   "source": [
    "## 1) Download dataset from Kaggle\n",
    "\n",
    "The Kaggle dataset used: **Fake and Real News Dataset** — two CSV files (`Fake.csv` and `True.csv`).\n",
    "\n",
    "Kaggle dataset page: https://www.kaggle.com/datasets/clmentbisaillon/fake-and-real-news-dataset\n"
   ]
  },
  {
   "cell_type": "code",
   "execution_count": 3,
   "id": "98e91397",
   "metadata": {},
   "outputs": [
    {
     "name": "stdout",
     "output_type": "stream",
     "text": [
      " Dataset loaded successfully!\n",
      "Total records: 44898\n",
      "                                               title  \\\n",
      "0  Ben Stein Calls Out 9th Circuit Court: Committ...   \n",
      "1  Trump drops Steve Bannon from National Securit...   \n",
      "2  Puerto Rico expects U.S. to lift Jones Act shi...   \n",
      "3   OOPS: Trump Just Accidentally Confirmed He Le...   \n",
      "4  Donald Trump heads for Scotland to reopen a go...   \n",
      "\n",
      "                                                text       subject  \\\n",
      "0  21st Century Wire says Ben Stein, reputable pr...       US_News   \n",
      "1  WASHINGTON (Reuters) - U.S. President Donald T...  politicsNews   \n",
      "2  (Reuters) - Puerto Rico Governor Ricardo Rosse...  politicsNews   \n",
      "3  On Monday, Donald Trump once again embarrassed...          News   \n",
      "4  GLASGOW, Scotland (Reuters) - Most U.S. presid...  politicsNews   \n",
      "\n",
      "                  date  label  \n",
      "0    February 13, 2017      0  \n",
      "1       April 5, 2017       1  \n",
      "2  September 27, 2017       1  \n",
      "3         May 22, 2017      0  \n",
      "4       June 24, 2016       1  \n"
     ]
    }
   ],
   "source": [
    "# Load dataset directly from local files\n",
    "import pandas as pd\n",
    "import os\n",
    "\n",
    "# Ensure data folder exists\n",
    "os.makedirs(\"data\", exist_ok=True)\n",
    "\n",
    "# Load both datasets\n",
    "fake_df = pd.read_csv(\"Fake.csv\")\n",
    "true_df = pd.read_csv(\"True.csv\")\n",
    "\n",
    "# Add labels\n",
    "fake_df[\"label\"] = 0\n",
    "true_df[\"label\"] = 1\n",
    "\n",
    "# Combine both into one dataframe\n",
    "df = pd.concat([fake_df, true_df], axis=0).sample(frac=1, random_state=42).reset_index(drop=True)\n",
    "\n",
    "print(f\" Dataset loaded successfully!\")\n",
    "print(f\"Total records: {len(df)}\")\n",
    "print(df.head())\n"
   ]
  },
  {
   "cell_type": "code",
   "execution_count": 5,
   "id": "745675bd",
   "metadata": {},
   "outputs": [
    {
     "name": "stdout",
     "output_type": "stream",
     "text": [
      "Total samples: 44898\n",
      "Label distribution:\n",
      " label\n",
      "fake    23481\n",
      "real    21417\n",
      "Name: count, dtype: int64\n"
     ]
    },
    {
     "data": {
      "text/html": [
       "<div>\n",
       "<style scoped>\n",
       "    .dataframe tbody tr th:only-of-type {\n",
       "        vertical-align: middle;\n",
       "    }\n",
       "\n",
       "    .dataframe tbody tr th {\n",
       "        vertical-align: top;\n",
       "    }\n",
       "\n",
       "    .dataframe thead th {\n",
       "        text-align: right;\n",
       "    }\n",
       "</style>\n",
       "<table border=\"1\" class=\"dataframe\">\n",
       "  <thead>\n",
       "    <tr style=\"text-align: right;\">\n",
       "      <th></th>\n",
       "      <th>title</th>\n",
       "      <th>text</th>\n",
       "      <th>subject</th>\n",
       "      <th>date</th>\n",
       "      <th>label</th>\n",
       "    </tr>\n",
       "  </thead>\n",
       "  <tbody>\n",
       "    <tr>\n",
       "      <th>0</th>\n",
       "      <td>Donald Trump Sends Out Embarrassing New Year’...</td>\n",
       "      <td>Donald Trump just couldn t wish all Americans ...</td>\n",
       "      <td>News</td>\n",
       "      <td>December 31, 2017</td>\n",
       "      <td>fake</td>\n",
       "    </tr>\n",
       "    <tr>\n",
       "      <th>1</th>\n",
       "      <td>Drunk Bragging Trump Staffer Started Russian ...</td>\n",
       "      <td>House Intelligence Committee Chairman Devin Nu...</td>\n",
       "      <td>News</td>\n",
       "      <td>December 31, 2017</td>\n",
       "      <td>fake</td>\n",
       "    </tr>\n",
       "    <tr>\n",
       "      <th>2</th>\n",
       "      <td>Sheriff David Clarke Becomes An Internet Joke...</td>\n",
       "      <td>On Friday, it was revealed that former Milwauk...</td>\n",
       "      <td>News</td>\n",
       "      <td>December 30, 2017</td>\n",
       "      <td>fake</td>\n",
       "    </tr>\n",
       "    <tr>\n",
       "      <th>3</th>\n",
       "      <td>Trump Is So Obsessed He Even Has Obama’s Name...</td>\n",
       "      <td>On Christmas day, Donald Trump announced that ...</td>\n",
       "      <td>News</td>\n",
       "      <td>December 29, 2017</td>\n",
       "      <td>fake</td>\n",
       "    </tr>\n",
       "    <tr>\n",
       "      <th>4</th>\n",
       "      <td>Pope Francis Just Called Out Donald Trump Dur...</td>\n",
       "      <td>Pope Francis used his annual Christmas Day mes...</td>\n",
       "      <td>News</td>\n",
       "      <td>December 25, 2017</td>\n",
       "      <td>fake</td>\n",
       "    </tr>\n",
       "  </tbody>\n",
       "</table>\n",
       "</div>"
      ],
      "text/plain": [
       "                                               title  \\\n",
       "0   Donald Trump Sends Out Embarrassing New Year’...   \n",
       "1   Drunk Bragging Trump Staffer Started Russian ...   \n",
       "2   Sheriff David Clarke Becomes An Internet Joke...   \n",
       "3   Trump Is So Obsessed He Even Has Obama’s Name...   \n",
       "4   Pope Francis Just Called Out Donald Trump Dur...   \n",
       "\n",
       "                                                text subject  \\\n",
       "0  Donald Trump just couldn t wish all Americans ...    News   \n",
       "1  House Intelligence Committee Chairman Devin Nu...    News   \n",
       "2  On Friday, it was revealed that former Milwauk...    News   \n",
       "3  On Christmas day, Donald Trump announced that ...    News   \n",
       "4  Pope Francis used his annual Christmas Day mes...    News   \n",
       "\n",
       "                date label  \n",
       "0  December 31, 2017  fake  \n",
       "1  December 31, 2017  fake  \n",
       "2  December 30, 2017  fake  \n",
       "3  December 29, 2017  fake  \n",
       "4  December 25, 2017  fake  "
      ]
     },
     "metadata": {},
     "output_type": "display_data"
    }
   ],
   "source": [
    "import pandas as pd\n",
    "import os\n",
    "\n",
    "fake_path = 'Fake.csv'\n",
    "true_path = 'True.csv'\n",
    "if os.path.exists(fake_path) and os.path.exists(true_path):\n",
    "    fake = pd.read_csv(fake_path)\n",
    "    true = pd.read_csv(true_path)\n",
    "    df = pd.concat([fake.assign(label='fake'), true.assign(label='real')], ignore_index=True)\n",
    "    \n",
    "    print('Total samples:', len(df))\n",
    "    print('Label distribution:\\n', df['label'].value_counts())\n",
    "    display(df.head())\n",
    "else:\n",
    "    print('Data files not found. Place Fake.csv and True.csv into the ./data folder.')\n"
   ]
  },
  {
   "cell_type": "code",
   "execution_count": 7,
   "id": "6a350bdd",
   "metadata": {},
   "outputs": [
    {
     "data": {
      "text/html": [
       "<div>\n",
       "<style scoped>\n",
       "    .dataframe tbody tr th:only-of-type {\n",
       "        vertical-align: middle;\n",
       "    }\n",
       "\n",
       "    .dataframe tbody tr th {\n",
       "        vertical-align: top;\n",
       "    }\n",
       "\n",
       "    .dataframe thead th {\n",
       "        text-align: right;\n",
       "    }\n",
       "</style>\n",
       "<table border=\"1\" class=\"dataframe\">\n",
       "  <thead>\n",
       "    <tr style=\"text-align: right;\">\n",
       "      <th></th>\n",
       "      <th>text</th>\n",
       "      <th>label</th>\n",
       "    </tr>\n",
       "  </thead>\n",
       "  <tbody>\n",
       "    <tr>\n",
       "      <th>0</th>\n",
       "      <td>The Gloves Are OFF: Hillary’s New Ad Uses Rep...</td>\n",
       "      <td>0</td>\n",
       "    </tr>\n",
       "    <tr>\n",
       "      <th>1</th>\n",
       "      <td>WATCH: Trump Fan Assaults Muslim Woman, Calls...</td>\n",
       "      <td>0</td>\n",
       "    </tr>\n",
       "    <tr>\n",
       "      <th>2</th>\n",
       "      <td>Philippines' Duterte, in about-face, says he s...</td>\n",
       "      <td>1</td>\n",
       "    </tr>\n",
       "    <tr>\n",
       "      <th>3</th>\n",
       "      <td>WATCH: Republican Lies About Immigrant Vettin...</td>\n",
       "      <td>0</td>\n",
       "    </tr>\n",
       "    <tr>\n",
       "      <th>4</th>\n",
       "      <td>WOW! NH LAWMAKER AND VET Rips Into Liberal Med...</td>\n",
       "      <td>0</td>\n",
       "    </tr>\n",
       "  </tbody>\n",
       "</table>\n",
       "</div>"
      ],
      "text/plain": [
       "                                                text  label\n",
       "0   The Gloves Are OFF: Hillary’s New Ad Uses Rep...      0\n",
       "1   WATCH: Trump Fan Assaults Muslim Woman, Calls...      0\n",
       "2  Philippines' Duterte, in about-face, says he s...      1\n",
       "3   WATCH: Republican Lies About Immigrant Vettin...      0\n",
       "4  WOW! NH LAWMAKER AND VET Rips Into Liberal Med...      0"
      ]
     },
     "metadata": {},
     "output_type": "display_data"
    }
   ],
   "source": [
    "from datasets import Dataset\n",
    "import numpy as np\n",
    "import pandas as pd\n",
    "\n",
    "if 'df' in globals():\n",
    "    def combine_text(row):\n",
    "        parts = []\n",
    "        if 'title' in row and pd.notna(row['title']):\n",
    "            parts.append(str(row['title']))\n",
    "        if 'text' in row and pd.notna(row['text']):\n",
    "            parts.append(str(row['text']))\n",
    "        return '\\n'.join(parts)\n",
    "\n",
    "    df['text_all'] = df.apply(combine_text, axis=1)\n",
    "    df = df[['text_all','label']].rename(columns={'text_all':'text'})\n",
    "    df['label_id'] = (df['label']=='real').astype(int)\n",
    "    dataset = Dataset.from_pandas(df[['text','label_id']].rename(columns={'label_id':'label'}))\n",
    "    display(dataset.shuffle(seed=42).select(range(5)).to_pandas())\n",
    "else:\n",
    "    print('Dataset not prepared because original CSVs are missing.')\n"
   ]
  },
  {
   "cell_type": "code",
   "execution_count": 116,
   "id": "b5bf16ef",
   "metadata": {},
   "outputs": [
    {
     "name": "stdout",
     "output_type": "stream",
     "text": [
      " Dataset prepared for Fake News Detection (small sample for fast run)\n",
      "Training samples: 200, Evaluation samples: 50\n"
     ]
    },
    {
     "name": "stderr",
     "output_type": "stream",
     "text": [
      "Some weights of DistilBertForSequenceClassification were not initialized from the model checkpoint at distilbert-base-uncased and are newly initialized: ['classifier.bias', 'classifier.weight', 'pre_classifier.bias', 'pre_classifier.weight']\n",
      "You should probably TRAIN this model on a down-stream task to be able to use it for predictions and inference.\n",
      "Some weights of RobertaForSequenceClassification were not initialized from the model checkpoint at roberta-base and are newly initialized: ['classifier.dense.bias', 'classifier.dense.weight', 'classifier.out_proj.bias', 'classifier.out_proj.weight']\n",
      "You should probably TRAIN this model on a down-stream task to be able to use it for predictions and inference.\n"
     ]
    }
   ],
   "source": [
    "import time\n",
    "import torch\n",
    "from transformers import AutoModelForSequenceClassification, AutoTokenizer, Trainer, TrainingArguments\n",
    "from datasets import load_dataset\n",
    "\n",
    "# =============================\n",
    "# STEP 1 — Load and Reduce Dataset\n",
    "# =============================\n",
    "\n",
    "from datasets import Dataset\n",
    "\n",
    "# Convert string labels (\"fake\"/\"real\") to integers (0/1)\n",
    "df[\"label\"] = df[\"label\"].map({\"fake\": 0, \"real\": 1})\n",
    "\n",
    "# Use your combined Fake + True news DataFrame\n",
    "dataset = Dataset.from_pandas(df[['text', 'label']])\n",
    "\n",
    "# Split into training and evaluation sets\n",
    "dataset = dataset.train_test_split(test_size=0.2, seed=42)\n",
    "train_dataset = dataset[\"train\"]\n",
    "eval_dataset = dataset[\"test\"]\n",
    "\n",
    "#  Reduce dataset size for faster training\n",
    "small_train_dataset = train_dataset.shuffle(seed=42).select(range(min(200, len(train_dataset))))\n",
    "small_eval_dataset = eval_dataset.shuffle(seed=42).select(range(min(50, len(eval_dataset))))\n",
    "\n",
    "print(\" Dataset prepared for Fake News Detection (small sample for fast run)\")\n",
    "print(f\"Training samples: {len(small_train_dataset)}, Evaluation samples: {len(small_eval_dataset)}\")\n",
    "\n",
    "\n",
    "\n",
    "# =============================\n",
    "# STEP 2 — Load Models and Tokenizers\n",
    "# =============================\n",
    "model_name_1 = \"distilbert-base-uncased\"\n",
    "model_name_2 = \"roberta-base\"\n",
    "\n",
    "tokenizer1 = AutoTokenizer.from_pretrained(model_name_1)\n",
    "tokenizer2 = AutoTokenizer.from_pretrained(model_name_2)\n",
    "\n",
    "model1 = AutoModelForSequenceClassification.from_pretrained(model_name_1, num_labels=2)\n",
    "model2 = AutoModelForSequenceClassification.from_pretrained(model_name_2, num_labels=2)"
   ]
  },
  {
   "cell_type": "code",
   "execution_count": 118,
   "id": "1c5d0770-b3e8-429d-985f-0c346e5a9887",
   "metadata": {},
   "outputs": [
    {
     "data": {
      "application/vnd.jupyter.widget-view+json": {
       "model_id": "7a096f9c487f497fab5f727320adc66a",
       "version_major": 2,
       "version_minor": 0
      },
      "text/plain": [
       "Map:   0%|          | 0/200 [00:00<?, ? examples/s]"
      ]
     },
     "metadata": {},
     "output_type": "display_data"
    },
    {
     "data": {
      "application/vnd.jupyter.widget-view+json": {
       "model_id": "e4ee731f6e2043d9a3d78aa04e2eb9de",
       "version_major": 2,
       "version_minor": 0
      },
      "text/plain": [
       "Map:   0%|          | 0/200 [00:00<?, ? examples/s]"
      ]
     },
     "metadata": {},
     "output_type": "display_data"
    },
    {
     "data": {
      "application/vnd.jupyter.widget-view+json": {
       "model_id": "fd19fcdef5ab4d34aedb8fa422191d71",
       "version_major": 2,
       "version_minor": 0
      },
      "text/plain": [
       "Map:   0%|          | 0/50 [00:00<?, ? examples/s]"
      ]
     },
     "metadata": {},
     "output_type": "display_data"
    },
    {
     "data": {
      "application/vnd.jupyter.widget-view+json": {
       "model_id": "9167f4b7ff6b49569137111f08868694",
       "version_major": 2,
       "version_minor": 0
      },
      "text/plain": [
       "Map:   0%|          | 0/50 [00:00<?, ? examples/s]"
      ]
     },
     "metadata": {},
     "output_type": "display_data"
    }
   ],
   "source": [
    "# =============================\n",
    "# STEP 3 — Tokenization\n",
    "# =============================\n",
    "def tokenize1(batch):\n",
    "    return tokenizer1(batch[\"text\"], truncation=True, padding=\"max_length\", max_length=256)\n",
    "\n",
    "def tokenize2(batch):\n",
    "    return tokenizer2(batch[\"text\"], truncation=True, padding=\"max_length\", max_length=256)\n",
    "\n",
    "tokenized1 = small_train_dataset.map(tokenize1, batched=True)\n",
    "tokenized2 = small_train_dataset.map(tokenize2, batched=True)\n",
    "\n",
    "tokenized1_eval = small_eval_dataset.map(tokenize1, batched=True)\n",
    "tokenized2_eval = small_eval_dataset.map(tokenize2, batched=True)\n",
    "\n",
    "# =============================\n",
    "# STEP 4 — Training Arguments (Simplified)\n",
    "# =============================\n",
    "training_args1 = TrainingArguments(\n",
    "    output_dir=\"./results_distilbert_fast\",\n",
    "    num_train_epochs=1,\n",
    "    per_device_train_batch_size=8,\n",
    "    learning_rate=5e-5,\n",
    "    logging_steps=50,\n",
    "    save_steps=1000,\n",
    "    report_to=\"none\"\n",
    ")\n",
    "\n",
    "training_args2 = TrainingArguments(\n",
    "    output_dir=\"./results_roberta_fast\",\n",
    "    num_train_epochs=1,\n",
    "    per_device_train_batch_size=8,\n",
    "    learning_rate=5e-5,\n",
    "    logging_steps=50,\n",
    "    save_steps=1000,\n",
    "    report_to=\"none\"\n",
    ")"
   ]
  },
  {
   "cell_type": "code",
   "execution_count": 120,
   "id": "a4dd6b87-b269-4a9e-ad6c-dc3e12a3d91d",
   "metadata": {},
   "outputs": [
    {
     "name": "stderr",
     "output_type": "stream",
     "text": [
      "C:\\Users\\WIN10\\AppData\\Local\\Temp\\ipykernel_4884\\1355575881.py:4: FutureWarning: `tokenizer` is deprecated and will be removed in version 5.0.0 for `Trainer.__init__`. Use `processing_class` instead.\n",
      "  trainer1 = Trainer(\n",
      "C:\\Users\\WIN10\\AppData\\Local\\Temp\\ipykernel_4884\\1355575881.py:12: FutureWarning: `tokenizer` is deprecated and will be removed in version 5.0.0 for `Trainer.__init__`. Use `processing_class` instead.\n",
      "  trainer2 = Trainer(\n"
     ]
    },
    {
     "name": "stdout",
     "output_type": "stream",
     "text": [
      " Training on device: cpu\n",
      "\n",
      " Training DistilBERT (1 epoch)...\n"
     ]
    },
    {
     "name": "stderr",
     "output_type": "stream",
     "text": [
      "C:\\Users\\WIN10\\anaconda3\\Lib\\site-packages\\torch\\utils\\data\\dataloader.py:666: UserWarning: 'pin_memory' argument is set as true but no accelerator is found, then device pinned memory won't be used.\n",
      "  warnings.warn(warn_msg)\n"
     ]
    },
    {
     "data": {
      "text/html": [
       "\n",
       "    <div>\n",
       "      \n",
       "      <progress value='25' max='25' style='width:300px; height:20px; vertical-align: middle;'></progress>\n",
       "      [25/25 05:57, Epoch 1/1]\n",
       "    </div>\n",
       "    <table border=\"1\" class=\"dataframe\">\n",
       "  <thead>\n",
       " <tr style=\"text-align: left;\">\n",
       "      <th>Step</th>\n",
       "      <th>Training Loss</th>\n",
       "    </tr>\n",
       "  </thead>\n",
       "  <tbody>\n",
       "  </tbody>\n",
       "</table><p>"
      ],
      "text/plain": [
       "<IPython.core.display.HTML object>"
      ]
     },
     "metadata": {},
     "output_type": "display_data"
    },
    {
     "name": "stdout",
     "output_type": "stream",
     "text": [
      "\n",
      " Training RoBERTa (1 epoch)...\n"
     ]
    },
    {
     "name": "stderr",
     "output_type": "stream",
     "text": [
      "C:\\Users\\WIN10\\anaconda3\\Lib\\site-packages\\torch\\utils\\data\\dataloader.py:666: UserWarning: 'pin_memory' argument is set as true but no accelerator is found, then device pinned memory won't be used.\n",
      "  warnings.warn(warn_msg)\n"
     ]
    },
    {
     "data": {
      "text/html": [
       "\n",
       "    <div>\n",
       "      \n",
       "      <progress value='25' max='25' style='width:300px; height:20px; vertical-align: middle;'></progress>\n",
       "      [25/25 16:00, Epoch 1/1]\n",
       "    </div>\n",
       "    <table border=\"1\" class=\"dataframe\">\n",
       "  <thead>\n",
       " <tr style=\"text-align: left;\">\n",
       "      <th>Step</th>\n",
       "      <th>Training Loss</th>\n",
       "    </tr>\n",
       "  </thead>\n",
       "  <tbody>\n",
       "  </tbody>\n",
       "</table><p>"
      ],
      "text/plain": [
       "<IPython.core.display.HTML object>"
      ]
     },
     "metadata": {},
     "output_type": "display_data"
    },
    {
     "name": "stdout",
     "output_type": "stream",
     "text": [
      "\n",
      " Fast training completed in 1385.89 seconds (~23.10 min)\n",
      " Models trained successfully!\n",
      " Models saved successfully!\n"
     ]
    }
   ],
   "source": [
    "# =============================\n",
    "# STEP 5 — Trainers\n",
    "# =============================\n",
    "trainer1 = Trainer(\n",
    "    model=model1,\n",
    "    args=training_args1,\n",
    "    train_dataset=tokenized1,\n",
    "    eval_dataset=tokenized1_eval,\n",
    "    tokenizer=tokenizer1,\n",
    ")\n",
    "\n",
    "trainer2 = Trainer(\n",
    "    model=model2,\n",
    "    args=training_args2,\n",
    "    train_dataset=tokenized2,\n",
    "    eval_dataset=tokenized2_eval,\n",
    "    tokenizer=tokenizer2,\n",
    ")\n",
    "\n",
    "# =============================\n",
    "# STEP 6 — GPU Setup\n",
    "# =============================\n",
    "device = torch.device(\"cuda\" if torch.cuda.is_available() else \"cpu\")\n",
    "model1.to(device)\n",
    "model2.to(device)\n",
    "print(\" Training on device:\", device)\n",
    "\n",
    "# =============================\n",
    "# STEP 7 — Fast Training\n",
    "# =============================\n",
    "start_time = time.time()\n",
    "\n",
    "print(\"\\n Training DistilBERT (1 epoch)...\")\n",
    "trainer1.train()\n",
    "\n",
    "print(\"\\n Training RoBERTa (1 epoch)...\")\n",
    "trainer2.train()\n",
    "\n",
    "end_time = time.time()\n",
    "\n",
    "print(f\"\\n Fast training completed in {end_time - start_time:.2f} seconds (~{(end_time - start_time)/60:.2f} min)\")\n",
    "print(\" Models trained successfully!\")\n",
    "\n",
    "# ============================================\n",
    "# STEP 8 — Save trained models for reuse\n",
    "# ============================================\n",
    "os.makedirs(\"models\", exist_ok=True)\n",
    "model1.save_pretrained(\"models/distilbert_fast\")\n",
    "tokenizer1.save_pretrained(\"models/distilbert_fast\")\n",
    "model2.save_pretrained(\"models/roberta_fast\")\n",
    "tokenizer2.save_pretrained(\"models/roberta_fast\")\n",
    "\n",
    "print(\" Models saved successfully!\")\n"
   ]
  },
  {
   "cell_type": "code",
   "execution_count": 121,
   "id": "58602c6b-2c34-45fd-ba8e-49da80e657a1",
   "metadata": {},
   "outputs": [
    {
     "name": "stdout",
     "output_type": "stream",
     "text": [
      " Ensemble inference function defined successfully!\n"
     ]
    }
   ],
   "source": [
    "import torch\n",
    "import numpy as np\n",
    "\n",
    "def ensemble_predict(texts, model1, tokenizer1, model2, tokenizer2, device=None):\n",
    "    \"\"\"\n",
    "    Performs ensemble prediction using two fine-tuned models (e.g., DistilBERT + RoBERTa).\n",
    "    Returns predicted labels for given input texts.\n",
    "    \"\"\"\n",
    "    # Ensure input is a list\n",
    "    if isinstance(texts, str):\n",
    "        texts = [texts]\n",
    "\n",
    "    # Tokenize both models\n",
    "    enc1 = tokenizer1(texts, truncation=True, padding=True, return_tensors='pt', max_length=256)\n",
    "    enc2 = tokenizer2(texts, truncation=True, padding=True, return_tensors='pt', max_length=256)\n",
    "\n",
    "    # Move models and inputs to device\n",
    "    if device is not None:\n",
    "        model1.to(device)\n",
    "        model2.to(device)\n",
    "        enc1 = {k: v.to(device) for k, v in enc1.items()}\n",
    "        enc2 = {k: v.to(device) for k, v in enc2.items()}\n",
    "\n",
    "    # Disable gradient calculation for faster inference\n",
    "    model1.eval()\n",
    "    model2.eval()\n",
    "    with torch.no_grad():\n",
    "        out1 = model1(**enc1).logits.detach().cpu().numpy()\n",
    "        out2 = model2(**enc2).logits.detach().cpu().numpy()\n",
    "\n",
    "    # Average the logits\n",
    "    avg_logits = (out1 + out2) / 2.0\n",
    "\n",
    "    # Get final predicted labels\n",
    "    preds = np.argmax(avg_logits, axis=1)\n",
    "\n",
    "    return preds\n",
    "\n",
    "print(\" Ensemble inference function defined successfully!\")\n"
   ]
  },
  {
   "cell_type": "markdown",
   "id": "67e3aaed",
   "metadata": {},
   "source": [
    "## Ensemble inference (average logits)\n",
    "\n",
    "After fine-tuning both models, you can produce predictions by averaging the output logits (or probabilities) from both models and taking the argmax."
   ]
  },
  {
   "cell_type": "code",
   "execution_count": 141,
   "id": "e8d59301",
   "metadata": {},
   "outputs": [
    {
     "name": "stdout",
     "output_type": "stream",
     "text": [
      " Ensemble inference function defined.\n"
     ]
    }
   ],
   "source": [
    "import torch\n",
    "def ensemble_predict(texts, model1, tokenizer1, model2, tokenizer2, device=None):\n",
    "    enc1 = tokenizer1(texts, truncation=True, padding=True, return_tensors='pt', max_length=256)\n",
    "    enc2 = tokenizer2(texts, truncation=True, padding=True, return_tensors='pt', max_length=256)\n",
    "    if device is not None:\n",
    "        model1.to(device)\n",
    "        model2.to(device)\n",
    "        enc1 = {k:v.to(device) for k,v in enc1.items()}\n",
    "        enc2 = {k:v.to(device) for k,v in enc2.items()}\n",
    "    with torch.no_grad():\n",
    "        out1 = model1(**enc1).logits.cpu().numpy()\n",
    "        out2 = model2(**enc2).logits.cpu().numpy()\n",
    "    avg = (out1 + out2) / 2.0\n",
    "    preds = avg.argmax(axis=1)\n",
    "    return preds\n",
    "\n",
    "print(' Ensemble inference function defined.')\n"
   ]
  },
  {
   "cell_type": "code",
   "execution_count": 145,
   "id": "903dac2f-2020-41f7-84a0-a93aa8a69f16",
   "metadata": {},
   "outputs": [
    {
     "name": "stdout",
     "output_type": "stream",
     "text": [
      "\n",
      " Ensemble Predictions:\n",
      "\n",
      "1. The government announced a new healthcare policy today.\n",
      "   → Prediction: Real News\n",
      "\n",
      "2. Aliens landed in London and started playing football!\n",
      "   → Prediction: Fake News\n",
      "\n",
      "3. NASA confirms successful landing of spacecraft on Mars for exploration.\n",
      "   → Prediction: Real News\n",
      "\n",
      "4. A man claims to have invented a perpetual motion machine that violates physics laws.\n",
      "   → Prediction: Fake News\n",
      "\n",
      "5. The city council approved the new environmental sustainability plan.\n",
      "   → Prediction: Real News\n",
      "\n",
      "6. Scientists discovered a new species of flying dog in the Amazon rainforest!\n",
      "   → Prediction: Fake News\n",
      "\n",
      "7. The President addressed the nation about the new economic reform package.\n",
      "   → Prediction: Real News\n",
      "\n",
      "8. A viral video shows unicorns running through Central Park at midnight.\n",
      "   → Prediction: Fake News\n",
      "\n",
      "9. Pfizer announced new advancements in its next-generation vaccine technology.\n",
      "   → Prediction: Real News\n",
      "\n",
      "10. A mysterious island appeared overnight in the middle of the Pacific Ocean!\n",
      "   → Prediction: Fake News\n",
      "\n"
     ]
    }
   ],
   "source": [
    "# Run Ensemble Prediction on Example Texts (after training)\n",
    "\n",
    "import numpy as np\n",
    "\n",
    "# Example test texts\n",
    "texts = [\n",
    "    \"The government announced a new healthcare policy today.\",\n",
    "    \"Aliens landed in London and started playing football!\",\n",
    "    \"NASA confirms successful landing of spacecraft on Mars for exploration.\",\n",
    "    \"A man claims to have invented a perpetual motion machine that violates physics laws.\",\n",
    "    \"The city council approved the new environmental sustainability plan.\",\n",
    "    \"Scientists discovered a new species of flying dog in the Amazon rainforest!\",\n",
    "    \"The President addressed the nation about the new economic reform package.\",\n",
    "    \"A viral video shows unicorns running through Central Park at midnight.\",\n",
    "    \"Pfizer announced new advancements in its next-generation vaccine technology.\",\n",
    "    \"A mysterious island appeared overnight in the middle of the Pacific Ocean!\"\n",
    "]\n",
    "\n",
    "# Run ensemble prediction (your previously defined function)\n",
    "preds = ensemble_predict(texts, model1, tokenizer1, model2, tokenizer2, device=device)\n",
    "\n",
    "# Convert numeric labels to readable form\n",
    "label_map = {0: \"Fake News\", 1: \"Real News\"}\n",
    "pred_texts = [label_map[p] for p in preds]\n",
    "\n",
    "# Display results\n",
    "print(\"\\n Ensemble Predictions:\\n\")\n",
    "for i, text in enumerate(texts):\n",
    "    print(f\"{i+1}. {text}\")\n",
    "    print(f\"   → Prediction: {pred_texts[i]}\\n\")\n"
   ]
  },
  {
   "cell_type": "code",
   "execution_count": 154,
   "id": "8ddb460f-11f6-4f4a-94af-d440978e0038",
   "metadata": {},
   "outputs": [
    {
     "name": "stdout",
     "output_type": "stream",
     "text": [
      " Ensemble Accuracy: 1.0000\n",
      "\n",
      "Classification Report:\n",
      "               precision    recall  f1-score   support\n",
      "\n",
      "           0       1.00      1.00      1.00        28\n",
      "           1       1.00      1.00      1.00        22\n",
      "\n",
      "    accuracy                           1.00        50\n",
      "   macro avg       1.00      1.00      1.00        50\n",
      "weighted avg       1.00      1.00      1.00        50\n",
      "\n"
     ]
    },
    {
     "data": {
      "image/png": "[encoded data removed]",
      "text/plain": [
       "<Figure size 640x480 with 2 Axes>"
      ]
     },
     "metadata": {},
     "output_type": "display_data"
    }
   ],
   "source": [
    "import torch\n",
    "import numpy as np\n",
    "import matplotlib.pyplot as plt\n",
    "from sklearn.metrics import accuracy_score, classification_report, confusion_matrix, ConfusionMatrixDisplay\n",
    "\n",
    "# --- Prepare data properly ---\n",
    "eval_texts = list(small_eval_dataset[\"text\"])\n",
    "true_labels = np.array(small_eval_dataset[\"label\"])\n",
    "\n",
    "# --- Move models to device ---\n",
    "device = torch.device(\"cuda\" if torch.cuda.is_available() else \"cpu\")\n",
    "model1.to(device)\n",
    "model2.to(device)\n",
    "\n",
    "# --- DistilBERT Predictions ---\n",
    "enc1 = tokenizer1(eval_texts, truncation=True, padding=True, return_tensors='pt', max_length=256)\n",
    "enc1 = {k: v.to(device) for k, v in enc1.items()}\n",
    "with torch.no_grad():\n",
    "    out1 = model1(**enc1).logits.cpu().numpy()\n",
    "\n",
    "# --- RoBERTa Predictions ---\n",
    "enc2 = tokenizer2(eval_texts, truncation=True, padding=True, return_tensors='pt', max_length=256)\n",
    "enc2 = {k: v.to(device) for k, v in enc2.items()}\n",
    "with torch.no_grad():\n",
    "    out2 = model2(**enc2).logits.cpu().numpy()\n",
    "\n",
    "# --- Ensemble Prediction (Average of both models) ---\n",
    "avg_logits = (out1 + out2) / 2.0\n",
    "preds = avg_logits.argmax(axis=1)\n",
    "\n",
    "# --- Accuracy and Report ---\n",
    "accuracy = accuracy_score(true_labels, preds)\n",
    "print(f\" Ensemble Accuracy: {accuracy:.4f}\")\n",
    "print(\"\\nClassification Report:\\n\", classification_report(true_labels, preds))\n",
    "\n",
    "# --- Confusion Matrix Plot ---\n",
    "cm = confusion_matrix(true_labels, preds)\n",
    "disp = ConfusionMatrixDisplay(confusion_matrix=cm)\n",
    "disp.plot(cmap='Blues')\n",
    "plt.title(f'Ensemble Model Confusion Matrix (Accuracy={accuracy:.2f})')\n",
    "plt.show()\n"
   ]
  },
  {
   "cell_type": "code",
   "execution_count": null,
   "id": "76f6af6e-7618-42cd-8c0c-2a4da3114556",
   "metadata": {},
   "outputs": [],
   "source": []
  }
 ],
 "metadata": {
  "kernelspec": {
   "display_name": "Python [conda env:base] *",
   "language": "python",
   "name": "conda-base-py"
  },
  "language_info": {
   "codemirror_mode": {
    "name": "ipython",
    "version": 3
   },
   "file_extension": ".py",
   "mimetype": "text/x-python",
   "name": "python",
   "nbconvert_exporter": "python",
   "pygments_lexer": "ipython3",
   "version": "3.12.7"
  }
 },
 "nbformat": 4,
 "nbformat_minor": 5
}
